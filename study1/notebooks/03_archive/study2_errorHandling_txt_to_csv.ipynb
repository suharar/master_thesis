{
 "cells": [
  {
   "cell_type": "code",
   "execution_count": 1,
   "metadata": {},
   "outputs": [
    {
     "name": "stdout",
     "output_type": "stream",
     "text": [
      "Data has been written to 20240818_claude_output_chunk_2nd.csv\n",
      "Total entries processed: 186\n"
     ]
    }
   ],
   "source": [
    "import csv\n",
    "import json\n",
    "import re\n",
    "\n",
    "def is_valid_json(json_str):\n",
    "    try:\n",
    "        json.loads(json_str)\n",
    "        return True\n",
    "    except json.JSONDecodeError:\n",
    "        return False\n",
    "\n",
    "def parse_json(json_str):\n",
    "    try:\n",
    "        # Remove any leading/trailing whitespace and newlines\n",
    "        json_str = json_str.strip()\n",
    "        # Parse the JSON string\n",
    "        data = json.loads(json_str)\n",
    "        return [\n",
    "            data.get('1st choice', ''),\n",
    "            data.get('2nd choice', ''),\n",
    "            data.get('3rd choice', ''),\n",
    "            data.get('Justification for 1st choice (EI)', ''),\n",
    "            data.get('Justification for 1st choice (NS)', ''),\n",
    "            data.get('Justification for 1st choice (TF)', ''),\n",
    "            data.get('Justification for 1st choice (PJ)', '')\n",
    "        ]\n",
    "    except json.JSONDecodeError as e:\n",
    "        print(f\"Error parsing JSON: {e}\")\n",
    "        print(f\"Problematic JSON: {json_str}\")\n",
    "        return None\n",
    "\n",
    "# Read the text file\n",
    "with open('20240818_claude_output_chunk_2nd.txt', 'r', encoding='utf-8') as file:\n",
    "    content = file.read()\n",
    "\n",
    "# Find all potential JSON objects in the file\n",
    "potential_json_objects = re.findall(r'\\{[^{}]*\\}', content, re.DOTALL)\n",
    "\n",
    "# Filter out non-JSON objects and parse valid ones\n",
    "parsed_data = []\n",
    "for i, json_obj in enumerate(potential_json_objects, 1):\n",
    "    if is_valid_json(json_obj):\n",
    "        result = parse_json(json_obj)\n",
    "        if result:\n",
    "            parsed_data.append([f\"Set {i}\"] + result)\n",
    "\n",
    "# Specify the CSV file name\n",
    "csv_filename = \"20240818_claude_output_chunk_2nd.csv\"\n",
    "\n",
    "# Column names for the CSV\n",
    "columns = ['set #', '1st choice', '2nd choice', '3rd choice', \n",
    "           'Justification for 1st choice (EI)', 'Justification for 1st choice (NS)', \n",
    "           'Justification for 1st choice (TF)', 'Justification for 1st choice (PJ)']\n",
    "\n",
    "# Writing to CSV file\n",
    "with open(csv_filename, mode='w', newline='', encoding='utf-8') as file:\n",
    "    writer = csv.writer(file)\n",
    "    writer.writerow(columns)\n",
    "    writer.writerows(parsed_data)\n",
    "\n",
    "print(f\"Data has been written to {csv_filename}\")\n",
    "print(f\"Total entries processed: {len(parsed_data)}\")\n"
   ]
  }
 ],
 "metadata": {
  "kernelspec": {
   "display_name": "base",
   "language": "python",
   "name": "python3"
  },
  "language_info": {
   "codemirror_mode": {
    "name": "ipython",
    "version": 3
   },
   "file_extension": ".py",
   "mimetype": "text/x-python",
   "name": "python",
   "nbconvert_exporter": "python",
   "pygments_lexer": "ipython3",
   "version": "3.11.7"
  }
 },
 "nbformat": 4,
 "nbformat_minor": 2
}
