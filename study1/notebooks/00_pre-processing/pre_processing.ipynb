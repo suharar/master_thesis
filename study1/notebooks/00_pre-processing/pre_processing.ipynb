{
 "cells": [
  {
   "cell_type": "code",
   "execution_count": 1,
   "metadata": {},
   "outputs": [],
   "source": [
    "import os\n",
    "import pandas as pd\n",
    "import numpy as np\n",
    "import matplotlib.pyplot as plt\n",
    "import seaborn as sns\n",
    "from sklearn.metrics import accuracy_score, precision_score, recall_score, f1_score"
   ]
  },
  {
   "cell_type": "code",
   "execution_count": 2,
   "metadata": {},
   "outputs": [],
   "source": [
    "# Set the working directory\n",
    "os.chdir(r'C:\\Users\\Ryo\\OneDrive\\Desktop\\Master Thesis\\master_thesis\\study1')\n",
    "\n",
    "pd.set_option('display.max_columns', None)"
   ]
  },
  {
   "cell_type": "code",
   "execution_count": 3,
   "metadata": {},
   "outputs": [],
   "source": [
    "version = 'exactDist' # 'original' or 'exactDist'"
   ]
  },
  {
   "cell_type": "code",
   "execution_count": 4,
   "metadata": {},
   "outputs": [],
   "source": [
    "if version == 'exactDist':\n",
    "    gpt35_result = pd.read_excel('raw/result_GPT35_exactDist.xlsx')\n",
    "    gpt4o_result = pd.read_excel('raw/result_GPT4o_exactDist.xlsx')\n",
    "    claude_result = pd.read_excel('raw/result_Claude_exactDist.xlsx')\n",
    "else:\n",
    "    gpt4o_result = pd.read_excel('raw/result_GPT4o.xlsx')\n",
    "    claude_result = pd.read_excel('raw/result_Claude.xlsx')\n",
    "    gpt35_result = pd.read_excel('raw/result_GPT35.xlsx')\n",
    "    gpt4_result = pd.read_excel('raw/result_GPT4.xlsx')\n",
    "    gemini_result = pd.read_excel('raw/result_Gemini.xlsx')\n",
    "    gemini_old_result = pd.read_excel('raw/result_Gemini (proto).xlsx')\n",
    "\n"
   ]
  },
  {
   "cell_type": "code",
   "execution_count": 5,
   "metadata": {},
   "outputs": [],
   "source": [
    "# dial the target models to True\n",
    "run_flag = {'gpt35'       : True,\n",
    "            'gpt4'        : False,\n",
    "            'gpt4o'       : True,\n",
    "            'gemini_old'  : False,\n",
    "            'gemini'      : False,  #ultra\n",
    "            'claude'      : True}   #sonnet"
   ]
  },
  {
   "cell_type": "code",
   "execution_count": 6,
   "metadata": {},
   "outputs": [
    {
     "data": {
      "text/html": [
       "<div>\n",
       "<style scoped>\n",
       "    .dataframe tbody tr th:only-of-type {\n",
       "        vertical-align: middle;\n",
       "    }\n",
       "\n",
       "    .dataframe tbody tr th {\n",
       "        vertical-align: top;\n",
       "    }\n",
       "\n",
       "    .dataframe thead th {\n",
       "        text-align: right;\n",
       "    }\n",
       "</style>\n",
       "<table border=\"1\" class=\"dataframe\">\n",
       "  <thead>\n",
       "    <tr style=\"text-align: right;\">\n",
       "      <th></th>\n",
       "      <th>type</th>\n",
       "      <th>posts_filtered</th>\n",
       "      <th>Row</th>\n",
       "      <th>1st choice</th>\n",
       "      <th>2nd choice</th>\n",
       "      <th>3rd choice</th>\n",
       "      <th>Justification for 1st choice (EI)</th>\n",
       "      <th>Justification for 1st choice (NS)</th>\n",
       "      <th>Justification for 1st choice (TF)</th>\n",
       "      <th>Justification for 1st choice (PJ)</th>\n",
       "    </tr>\n",
       "  </thead>\n",
       "  <tbody>\n",
       "    <tr>\n",
       "      <th>0</th>\n",
       "      <td>INFJ</td>\n",
       "      <td>I find users with Fi and Ti quite attractive. ...</td>\n",
       "      <td>#1</td>\n",
       "      <td>INFP</td>\n",
       "      <td>ISFP</td>\n",
       "      <td>INFJ</td>\n",
       "      <td>Reflects introspection and a preference for so...</td>\n",
       "      <td>Emphasizes emotional depth and abstract expres...</td>\n",
       "      <td>Prioritizes personal values and emotional unde...</td>\n",
       "      <td>Shows a contemplative and open-ended approach ...</td>\n",
       "    </tr>\n",
       "    <tr>\n",
       "      <th>1</th>\n",
       "      <td>INFJ</td>\n",
       "      <td>'I'm {MBTI type} and I'd honestly like to know...</td>\n",
       "      <td>#2</td>\n",
       "      <td>INFJ</td>\n",
       "      <td>INFP</td>\n",
       "      <td>ENFJ</td>\n",
       "      <td>Reflects introspection and a preference for so...</td>\n",
       "      <td>Shows a preference for abstract ideas and disc...</td>\n",
       "      <td>Emphasizes understanding and empathy while mak...</td>\n",
       "      <td>Expresses a need for organization and long-ter...</td>\n",
       "    </tr>\n",
       "    <tr>\n",
       "      <th>2</th>\n",
       "      <td>INFJ</td>\n",
       "      <td>{html link} back. Good to hear of you. I can't...</td>\n",
       "      <td>#3</td>\n",
       "      <td>INFP</td>\n",
       "      <td>ENFP</td>\n",
       "      <td>INFJ</td>\n",
       "      <td>Reflects introspection and a preference for so...</td>\n",
       "      <td>Emphasizes emotional depth, abstract expressio...</td>\n",
       "      <td>Prioritizes personal values and emotional unde...</td>\n",
       "      <td>Shows a contemplative and open-ended approach ...</td>\n",
       "    </tr>\n",
       "    <tr>\n",
       "      <th>3</th>\n",
       "      <td>INFJ</td>\n",
       "      <td>'oh my god they waste no time hahahahah|||Well...</td>\n",
       "      <td>#1</td>\n",
       "      <td>ENFP</td>\n",
       "      <td>ENTP</td>\n",
       "      <td>INFP</td>\n",
       "      <td>The speaker engages actively with various peop...</td>\n",
       "      <td>Uses abstract language, engages in discussions...</td>\n",
       "      <td>Often expresses appreciation for people and pe...</td>\n",
       "      <td>The speaker demonstrates spontaneity, flexibil...</td>\n",
       "    </tr>\n",
       "    <tr>\n",
       "      <th>4</th>\n",
       "      <td>INFJ</td>\n",
       "      <td>'28 :/|||I like a person that makes me a bette...</td>\n",
       "      <td>#2</td>\n",
       "      <td>INTP</td>\n",
       "      <td>INFJ</td>\n",
       "      <td>INTJ</td>\n",
       "      <td>The speaker shows a preference for introspecti...</td>\n",
       "      <td>The emphasis on abstract thinking, future poss...</td>\n",
       "      <td>The speaker values logical analysis and reason...</td>\n",
       "      <td>The flexibility in thoughts and openness to po...</td>\n",
       "    </tr>\n",
       "  </tbody>\n",
       "</table>\n",
       "</div>"
      ],
      "text/plain": [
       "   type                                     posts_filtered Row 1st choice  \\\n",
       "0  INFJ  I find users with Fi and Ti quite attractive. ...  #1       INFP   \n",
       "1  INFJ  'I'm {MBTI type} and I'd honestly like to know...  #2       INFJ   \n",
       "2  INFJ  {html link} back. Good to hear of you. I can't...  #3       INFP   \n",
       "3  INFJ  'oh my god they waste no time hahahahah|||Well...  #1       ENFP   \n",
       "4  INFJ  '28 :/|||I like a person that makes me a bette...  #2       INTP   \n",
       "\n",
       "  2nd choice 3rd choice                  Justification for 1st choice (EI)  \\\n",
       "0       ISFP       INFJ  Reflects introspection and a preference for so...   \n",
       "1       INFP       ENFJ  Reflects introspection and a preference for so...   \n",
       "2       ENFP       INFJ  Reflects introspection and a preference for so...   \n",
       "3       ENTP       INFP  The speaker engages actively with various peop...   \n",
       "4       INFJ       INTJ  The speaker shows a preference for introspecti...   \n",
       "\n",
       "                   Justification for 1st choice (NS)  \\\n",
       "0  Emphasizes emotional depth and abstract expres...   \n",
       "1  Shows a preference for abstract ideas and disc...   \n",
       "2  Emphasizes emotional depth, abstract expressio...   \n",
       "3  Uses abstract language, engages in discussions...   \n",
       "4  The emphasis on abstract thinking, future poss...   \n",
       "\n",
       "                   Justification for 1st choice (TF)  \\\n",
       "0  Prioritizes personal values and emotional unde...   \n",
       "1  Emphasizes understanding and empathy while mak...   \n",
       "2  Prioritizes personal values and emotional unde...   \n",
       "3  Often expresses appreciation for people and pe...   \n",
       "4  The speaker values logical analysis and reason...   \n",
       "\n",
       "                   Justification for 1st choice (PJ)  \n",
       "0  Shows a contemplative and open-ended approach ...  \n",
       "1  Expresses a need for organization and long-ter...  \n",
       "2  Shows a contemplative and open-ended approach ...  \n",
       "3  The speaker demonstrates spontaneity, flexibil...  \n",
       "4  The flexibility in thoughts and openness to po...  "
      ]
     },
     "execution_count": 6,
     "metadata": {},
     "output_type": "execute_result"
    }
   ],
   "source": [
    "gpt4o_result.head()"
   ]
  },
  {
   "cell_type": "code",
   "execution_count": 7,
   "metadata": {},
   "outputs": [],
   "source": [
    "def split_type (row: str, index: int): #j\n",
    "    splitted = list(row)\n",
    "    return splitted[index]"
   ]
  },
  {
   "cell_type": "code",
   "execution_count": 8,
   "metadata": {},
   "outputs": [],
   "source": [
    "def splitting_types_to_columns (cols_list, df):\n",
    "    naming = [' (EI)', ' (NS)', ' (FT)', ' (JP)']\n",
    "    for i, col in enumerate(cols_list):\n",
    "        col_index = df.columns.tolist().index(col)\n",
    "        for j, name in enumerate(naming):\n",
    "            new_name = col + name\n",
    "            value = df[col].apply(lambda row: split_type(row, j))\n",
    "            df.insert(loc=col_index+j+1, column= new_name, value=value)\n",
    "    return df"
   ]
  },
  {
   "cell_type": "code",
   "execution_count": 9,
   "metadata": {},
   "outputs": [],
   "source": [
    "def add_bool (df):\n",
    "    namings = ['full', '(EI)', '(NS)', '(FT)', '(JP)']\n",
    "    choices = ['1st ', '2nd ', '3rd ']\n",
    "    for i, choice in enumerate(choices):\n",
    "        for j, col in enumerate(namings):\n",
    "            start_index = (i+1)*(len(namings))\n",
    "            actual = df.iloc[:,j]\n",
    "            pred = df.iloc[:,start_index + j]\n",
    "            bool_series = actual == pred\n",
    "            new_col_name = 'is matched ' + choice + col\n",
    "            df[new_col_name] = bool_series\n",
    "    return df"
   ]
  },
  {
   "cell_type": "code",
   "execution_count": 10,
   "metadata": {},
   "outputs": [],
   "source": [
    "def generate_df_for_accuracy (df):\n",
    "    col_names = df.columns.tolist()\n",
    "\n",
    "    accuracy_check_cols = ['type', '1st choice', '2nd choice', '3rd choice']\n",
    "    accuracy_check = df[accuracy_check_cols]\n",
    "    accuracy_check = accuracy_check[~accuracy_check.apply(lambda row: 'na' in row.values, axis=1)]\n",
    "\n",
    "    accuracy_check = splitting_types_to_columns(accuracy_check_cols, accuracy_check)\n",
    "    accuracy_check = add_bool(accuracy_check)\n",
    "    return accuracy_check"
   ]
  },
  {
   "cell_type": "code",
   "execution_count": 11,
   "metadata": {},
   "outputs": [],
   "source": [
    "def generate_df_for_justification (df):\n",
    "    selected_cols = ['type', 'posts_filtered', '1st choice', 'Justification for 1st choice (EI)', 'Justification for 1st choice (NS)',\t'Justification for 1st choice (TF)', 'Justification for 1st choice (PJ)']\n",
    "    split_target_cols = ['type', '1st choice']\n",
    "    new_df = df[selected_cols]\n",
    "    new_df = new_df[~new_df.apply(lambda row: 'na' in row.values, axis=1)]\n",
    "    new_df = splitting_types_to_columns (split_target_cols, new_df)\n",
    "\n",
    "    #----------purify df by changing columns order------------\n",
    "    popped_data = new_df.pop('posts_filtered')\n",
    "    index = new_df.columns.tolist().index('Justification for 1st choice (EI)')\n",
    "    new_df.insert(loc=index, column='posts_filtered', value=popped_data)\n",
    "\n",
    "    #---------add matched flag b/w original/predicted---------\n",
    "    col_0 = new_df.columns.tolist()[:index]\n",
    "    new_df_0 = new_df[col_0]\n",
    "    new_cols = ['is_matched(full)', 'is_matched(EI)', 'is_matched(NS)', 'is_matched(FT)', 'is_matched(JP)']\n",
    "    for i, col in enumerate(new_cols):\n",
    "        new_df_0[col] = new_df_0.iloc[:,i] == new_df_0.iloc[:,i+len(new_cols)]\n",
    "    new_df = pd.concat([new_df_0, new_df[new_df.columns.tolist()[index:]]], axis = 1)\n",
    "    \n",
    "    return new_df"
   ]
  },
  {
   "cell_type": "code",
   "execution_count": 12,
   "metadata": {},
   "outputs": [],
   "source": [
    "def generate_dfs (df):\n",
    "    return generate_df_for_accuracy (df), generate_df_for_justification(df)"
   ]
  },
  {
   "cell_type": "markdown",
   "metadata": {},
   "source": [
    "# gpt4o data transformation"
   ]
  },
  {
   "cell_type": "code",
   "execution_count": 13,
   "metadata": {},
   "outputs": [
    {
     "name": "stdout",
     "output_type": "stream",
     "text": [
      "(622, 35)\n",
      "(622, 20)\n"
     ]
    },
    {
     "name": "stderr",
     "output_type": "stream",
     "text": [
      "C:\\Users\\Ryo\\AppData\\Local\\Temp\\ipykernel_26004\\2401758167.py:18: SettingWithCopyWarning: \n",
      "A value is trying to be set on a copy of a slice from a DataFrame.\n",
      "Try using .loc[row_indexer,col_indexer] = value instead\n",
      "\n",
      "See the caveats in the documentation: https://pandas.pydata.org/pandas-docs/stable/user_guide/indexing.html#returning-a-view-versus-a-copy\n",
      "  new_df_0[col] = new_df_0.iloc[:,i] == new_df_0.iloc[:,i+len(new_cols)]\n",
      "C:\\Users\\Ryo\\AppData\\Local\\Temp\\ipykernel_26004\\2401758167.py:18: SettingWithCopyWarning: \n",
      "A value is trying to be set on a copy of a slice from a DataFrame.\n",
      "Try using .loc[row_indexer,col_indexer] = value instead\n",
      "\n",
      "See the caveats in the documentation: https://pandas.pydata.org/pandas-docs/stable/user_guide/indexing.html#returning-a-view-versus-a-copy\n",
      "  new_df_0[col] = new_df_0.iloc[:,i] == new_df_0.iloc[:,i+len(new_cols)]\n",
      "C:\\Users\\Ryo\\AppData\\Local\\Temp\\ipykernel_26004\\2401758167.py:18: SettingWithCopyWarning: \n",
      "A value is trying to be set on a copy of a slice from a DataFrame.\n",
      "Try using .loc[row_indexer,col_indexer] = value instead\n",
      "\n",
      "See the caveats in the documentation: https://pandas.pydata.org/pandas-docs/stable/user_guide/indexing.html#returning-a-view-versus-a-copy\n",
      "  new_df_0[col] = new_df_0.iloc[:,i] == new_df_0.iloc[:,i+len(new_cols)]\n",
      "C:\\Users\\Ryo\\AppData\\Local\\Temp\\ipykernel_26004\\2401758167.py:18: SettingWithCopyWarning: \n",
      "A value is trying to be set on a copy of a slice from a DataFrame.\n",
      "Try using .loc[row_indexer,col_indexer] = value instead\n",
      "\n",
      "See the caveats in the documentation: https://pandas.pydata.org/pandas-docs/stable/user_guide/indexing.html#returning-a-view-versus-a-copy\n",
      "  new_df_0[col] = new_df_0.iloc[:,i] == new_df_0.iloc[:,i+len(new_cols)]\n"
     ]
    }
   ],
   "source": [
    "if run_flag['gpt4o'] == True:\n",
    "    gpt4o_result_accuracy, gpt4o_result_justification = generate_dfs(gpt4o_result)\n",
    "    print(gpt4o_result_accuracy.shape)\n",
    "    print(gpt4o_result_justification.shape)"
   ]
  },
  {
   "cell_type": "code",
   "execution_count": 14,
   "metadata": {},
   "outputs": [
    {
     "name": "stdout",
     "output_type": "stream",
     "text": [
      "type\n",
      "INFP    130\n",
      "INFJ    106\n",
      "INTP     94\n",
      "INTJ     78\n",
      "ENTP     49\n",
      "ENFP     49\n",
      "ISTP     24\n",
      "ISFP     19\n",
      "ENTJ     17\n",
      "ISTJ     15\n",
      "ENFJ     14\n",
      "ISFJ     12\n",
      "ESTP      6\n",
      "ESFP      3\n",
      "ESTJ      3\n",
      "ESFJ      3\n",
      "Name: count, dtype: int64\n"
     ]
    }
   ],
   "source": [
    "if run_flag['gpt4o'] == True:\n",
    "    print(gpt4o_result_accuracy['type'].value_counts())"
   ]
  },
  {
   "cell_type": "markdown",
   "metadata": {},
   "source": [
    "# gpt4 data transformation"
   ]
  },
  {
   "cell_type": "code",
   "execution_count": 15,
   "metadata": {},
   "outputs": [],
   "source": [
    "if run_flag['gpt4'] == True:\n",
    "    gpt4_result_accuracy, gpt4_result_justification = generate_dfs(gpt4_result)\n",
    "    print(gpt4_result_accuracy.shape)\n",
    "    print(gpt4_result_justification.shape)"
   ]
  },
  {
   "cell_type": "code",
   "execution_count": 16,
   "metadata": {},
   "outputs": [],
   "source": [
    "if run_flag['gpt4'] == True:\n",
    "    print(gpt4_result_accuracy['type'].value_counts())"
   ]
  },
  {
   "cell_type": "code",
   "execution_count": 17,
   "metadata": {},
   "outputs": [
    {
     "name": "stdout",
     "output_type": "stream",
     "text": [
      "(620, 35)\n",
      "(620, 20)\n"
     ]
    },
    {
     "name": "stderr",
     "output_type": "stream",
     "text": [
      "C:\\Users\\Ryo\\AppData\\Local\\Temp\\ipykernel_26004\\2401758167.py:18: SettingWithCopyWarning: \n",
      "A value is trying to be set on a copy of a slice from a DataFrame.\n",
      "Try using .loc[row_indexer,col_indexer] = value instead\n",
      "\n",
      "See the caveats in the documentation: https://pandas.pydata.org/pandas-docs/stable/user_guide/indexing.html#returning-a-view-versus-a-copy\n",
      "  new_df_0[col] = new_df_0.iloc[:,i] == new_df_0.iloc[:,i+len(new_cols)]\n",
      "C:\\Users\\Ryo\\AppData\\Local\\Temp\\ipykernel_26004\\2401758167.py:18: SettingWithCopyWarning: \n",
      "A value is trying to be set on a copy of a slice from a DataFrame.\n",
      "Try using .loc[row_indexer,col_indexer] = value instead\n",
      "\n",
      "See the caveats in the documentation: https://pandas.pydata.org/pandas-docs/stable/user_guide/indexing.html#returning-a-view-versus-a-copy\n",
      "  new_df_0[col] = new_df_0.iloc[:,i] == new_df_0.iloc[:,i+len(new_cols)]\n",
      "C:\\Users\\Ryo\\AppData\\Local\\Temp\\ipykernel_26004\\2401758167.py:18: SettingWithCopyWarning: \n",
      "A value is trying to be set on a copy of a slice from a DataFrame.\n",
      "Try using .loc[row_indexer,col_indexer] = value instead\n",
      "\n",
      "See the caveats in the documentation: https://pandas.pydata.org/pandas-docs/stable/user_guide/indexing.html#returning-a-view-versus-a-copy\n",
      "  new_df_0[col] = new_df_0.iloc[:,i] == new_df_0.iloc[:,i+len(new_cols)]\n",
      "C:\\Users\\Ryo\\AppData\\Local\\Temp\\ipykernel_26004\\2401758167.py:18: SettingWithCopyWarning: \n",
      "A value is trying to be set on a copy of a slice from a DataFrame.\n",
      "Try using .loc[row_indexer,col_indexer] = value instead\n",
      "\n",
      "See the caveats in the documentation: https://pandas.pydata.org/pandas-docs/stable/user_guide/indexing.html#returning-a-view-versus-a-copy\n",
      "  new_df_0[col] = new_df_0.iloc[:,i] == new_df_0.iloc[:,i+len(new_cols)]\n"
     ]
    }
   ],
   "source": [
    "if run_flag['claude'] == True:\n",
    "    claude_result_accuracy, claude_result_justification = generate_dfs(claude_result)\n",
    "    print(claude_result_accuracy.shape)\n",
    "    print(claude_result_justification.shape)"
   ]
  },
  {
   "cell_type": "code",
   "execution_count": 18,
   "metadata": {},
   "outputs": [
    {
     "name": "stdout",
     "output_type": "stream",
     "text": [
      "type\n",
      "INFP    130\n",
      "INFJ    105\n",
      "INTP     93\n",
      "INTJ     78\n",
      "ENTP     49\n",
      "ENFP     49\n",
      "ISTP     24\n",
      "ISFP     19\n",
      "ENTJ     17\n",
      "ISTJ     15\n",
      "ENFJ     14\n",
      "ISFJ     12\n",
      "ESTP      6\n",
      "ESFP      3\n",
      "ESTJ      3\n",
      "ESFJ      3\n",
      "Name: count, dtype: int64\n"
     ]
    }
   ],
   "source": [
    "if run_flag['claude'] == True:\n",
    "    print(claude_result_accuracy['type'].value_counts())"
   ]
  },
  {
   "cell_type": "markdown",
   "metadata": {},
   "source": [
    "# gemini ultra data transformation"
   ]
  },
  {
   "cell_type": "code",
   "execution_count": 19,
   "metadata": {},
   "outputs": [],
   "source": [
    "if run_flag['gemini'] == True:\n",
    "    gemini_result_accuracy, gemini_result_justification = generate_dfs(gemini_result)"
   ]
  },
  {
   "cell_type": "code",
   "execution_count": 20,
   "metadata": {},
   "outputs": [],
   "source": [
    "if run_flag['gemini'] == True:\n",
    "    gemini_result_accuracy['type'].value_counts()"
   ]
  },
  {
   "cell_type": "markdown",
   "metadata": {},
   "source": [
    "# gpt3.5 data transformation"
   ]
  },
  {
   "cell_type": "code",
   "execution_count": 21,
   "metadata": {},
   "outputs": [
    {
     "name": "stderr",
     "output_type": "stream",
     "text": [
      "C:\\Users\\Ryo\\AppData\\Local\\Temp\\ipykernel_26004\\2401758167.py:18: SettingWithCopyWarning: \n",
      "A value is trying to be set on a copy of a slice from a DataFrame.\n",
      "Try using .loc[row_indexer,col_indexer] = value instead\n",
      "\n",
      "See the caveats in the documentation: https://pandas.pydata.org/pandas-docs/stable/user_guide/indexing.html#returning-a-view-versus-a-copy\n",
      "  new_df_0[col] = new_df_0.iloc[:,i] == new_df_0.iloc[:,i+len(new_cols)]\n",
      "C:\\Users\\Ryo\\AppData\\Local\\Temp\\ipykernel_26004\\2401758167.py:18: SettingWithCopyWarning: \n",
      "A value is trying to be set on a copy of a slice from a DataFrame.\n",
      "Try using .loc[row_indexer,col_indexer] = value instead\n",
      "\n",
      "See the caveats in the documentation: https://pandas.pydata.org/pandas-docs/stable/user_guide/indexing.html#returning-a-view-versus-a-copy\n",
      "  new_df_0[col] = new_df_0.iloc[:,i] == new_df_0.iloc[:,i+len(new_cols)]\n",
      "C:\\Users\\Ryo\\AppData\\Local\\Temp\\ipykernel_26004\\2401758167.py:18: SettingWithCopyWarning: \n",
      "A value is trying to be set on a copy of a slice from a DataFrame.\n",
      "Try using .loc[row_indexer,col_indexer] = value instead\n",
      "\n",
      "See the caveats in the documentation: https://pandas.pydata.org/pandas-docs/stable/user_guide/indexing.html#returning-a-view-versus-a-copy\n",
      "  new_df_0[col] = new_df_0.iloc[:,i] == new_df_0.iloc[:,i+len(new_cols)]\n",
      "C:\\Users\\Ryo\\AppData\\Local\\Temp\\ipykernel_26004\\2401758167.py:18: SettingWithCopyWarning: \n",
      "A value is trying to be set on a copy of a slice from a DataFrame.\n",
      "Try using .loc[row_indexer,col_indexer] = value instead\n",
      "\n",
      "See the caveats in the documentation: https://pandas.pydata.org/pandas-docs/stable/user_guide/indexing.html#returning-a-view-versus-a-copy\n",
      "  new_df_0[col] = new_df_0.iloc[:,i] == new_df_0.iloc[:,i+len(new_cols)]\n"
     ]
    },
    {
     "name": "stdout",
     "output_type": "stream",
     "text": [
      "(621, 35)\n",
      "(621, 20)\n"
     ]
    }
   ],
   "source": [
    "if run_flag['gpt35'] == True:\n",
    "    gpt35_result_accuracy, gpt35_result_justification = generate_dfs(gpt35_result)\n",
    "    print(gpt35_result_accuracy.shape)\n",
    "    print(gpt35_result_justification.shape)"
   ]
  },
  {
   "cell_type": "markdown",
   "metadata": {},
   "source": [
    "# gemini data tranformation"
   ]
  },
  {
   "cell_type": "code",
   "execution_count": 22,
   "metadata": {},
   "outputs": [],
   "source": [
    "if run_flag['gemini_old'] == True:\n",
    "    gemini_old_result_accuracy, gemini_old_result_justification = generate_dfs(gemini_old_result)\n",
    "    print(gemini_old_result_accuracy.shape)\n",
    "    print(gemini_old_result_justification.shape)"
   ]
  },
  {
   "cell_type": "code",
   "execution_count": 23,
   "metadata": {},
   "outputs": [
    {
     "name": "stdout",
     "output_type": "stream",
     "text": [
      "saved: gpt35_result_accuracy\n",
      "saved: gpt35_result_justification\n",
      "saved: gpt4o_result_accuracy\n",
      "saved: gpt4o_result_justification\n",
      "saved: claude_result_accuracy\n",
      "saved: claude_result_justification\n"
     ]
    }
   ],
   "source": [
    "def save_to_excel(variable_name, \n",
    "                  directory='transformed',\n",
    "                  version = version):\n",
    "    if version == 'exactDist':\n",
    "        if variable_name in globals():\n",
    "            globals()[variable_name].to_excel(f'{directory}/{variable_name}_exactDist.xlsx', index=False)\n",
    "        else:\n",
    "            print(f\"Variable {variable_name} does not exist.\")        \n",
    "    else:\n",
    "        if variable_name in globals():\n",
    "            globals()[variable_name].to_excel(f'{directory}/{variable_name}.xlsx', index=False)\n",
    "        else:\n",
    "            print(f\"Variable {variable_name} does not exist.\")\n",
    "\n",
    "# Loop through the run flags\n",
    "for model_name, flag in run_flag.items():\n",
    "    if flag:\n",
    "        accuracy_table_name = f\"{model_name}_result_accuracy\"\n",
    "        justification_table_name = f\"{model_name}_result_justification\"\n",
    "        \n",
    "        save_to_excel(accuracy_table_name)\n",
    "        save_to_excel(justification_table_name)\n",
    "\n",
    "        print(f\"saved: {accuracy_table_name}\")\n",
    "        print(f\"saved: {justification_table_name}\")"
   ]
  }
 ],
 "metadata": {
  "kernelspec": {
   "display_name": "base",
   "language": "python",
   "name": "python3"
  },
  "language_info": {
   "codemirror_mode": {
    "name": "ipython",
    "version": 3
   },
   "file_extension": ".py",
   "mimetype": "text/x-python",
   "name": "python",
   "nbconvert_exporter": "python",
   "pygments_lexer": "ipython3",
   "version": "3.11.7"
  }
 },
 "nbformat": 4,
 "nbformat_minor": 2
}
